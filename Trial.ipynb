{
 "cells": [
  {
   "cell_type": "code",
   "execution_count": 4,
   "metadata": {},
   "outputs": [],
   "source": [
    "import torch\n",
    "import torch.nn as nn\n",
    "import torchdiffeq\n",
    "from torchdiffeq import odeint"
   ]
  },
  {
   "cell_type": "code",
   "execution_count": 5,
   "metadata": {},
   "outputs": [],
   "source": [
    "\"\"\"\n",
    "Class RateStateParams, manages data of rate-and-state friction with flash-heating effect, contains \n",
    "    Data:\n",
    "        fr: Reference friction coefficient\n",
    "        a: Rate-and-state parameter a\n",
    "        b: Rate-and-state parameter b\n",
    "        DRS: Characteristic slip distance\n",
    "        Vw: Flash-heating slip rate\n",
    "        fw: Flash-heating friction coefficient\n",
    "\"\"\"\n",
    "class RateStateParams:\n",
    "    # Constructor\n",
    "    def __init__(self, fr = 0.6, a = 0.016, b = 0.011, DRS = 1.e-6, Vw = 1.0e6, fw = 0.2):\n",
    "        self.fr = fr\n",
    "        self.a = a\n",
    "        self.b = b\n",
    "        self.DRS = DRS\n",
    "        self.Vw = Vw\n",
    "        self.fw = fw"
   ]
  },
  {
   "cell_type": "code",
   "execution_count": 3,
   "metadata": {},
   "outputs": [],
   "source": [
    "\"\"\"\n",
    "Class TimeSequenceGen, container for a Generated time sequence containing \n",
    "    Data:\n",
    "        t [number of time points]: Tensor for time stamps, prescribed\n",
    "        N [number of time points]: Tensor for normal stress, prescribed\n",
    "        Ds [number of time points]: Tensor for slip rate, prescribed\n",
    "        s [number of time points]: Tensor for slip, prescribed\n",
    "        theta [number of hidden variables, number of time points]: Tensor for hidden variables, computed\n",
    "        params : Class for parameters\n",
    "    Method:\n",
    "        __init__ : Constructor\n",
    "        DthetaDt : Evolution function for hidden variables theta\n",
    "        calTau : Calculate the function of shear stress Tau\n",
    "\"\"\"\n",
    "class TimeSequenceGen:\n",
    "    # Constructor\n",
    "    def __init__(self, t, N, Ds, params):\n",
    "        # Load the parameters\n",
    "        self.t = t\n",
    "        self.N = N\n",
    "        self.Ds = Ds\n",
    "        self.s = torch.zeros(Ds.shape, dtype = torch.float64)\n",
    "        self.s[1:] = torch.cumulative_trapezoid(Ds, x = t)\n",
    "        self.params = params\n",
    "        \n",
    "        # Calculate theta history\n",
    "        self.theta = torch.zeros(Ds.shape, dtype = torch.float64)\n",
    "        \n",
    "    # Function DthetaDt, defines DthetaDt as a function of temporally local values\n",
    "    def DthetaDt(self, Ds, theta):\n",
    "        \n",
    "        DthetaDt = (1. - Ds * theta) / self.params.DRS\n",
    "        return DthetaDt\n",
    "    \n",
    "    # Function calTau, calculates shear traction tau, suingregularized rate-and-state formulation\n",
    "    def calTau(self):\n",
    "        # Set aliases for rate-and-state parameters\n",
    "        a = self.params.a\n",
    "        b = self.params.b\n",
    "        Vr = self.params.Vr\n",
    "        DRS = self.params.DRS\n",
    "        fr = self.params.fr\n",
    "        \n",
    "        self.tau = self.N * a * torch.asinh(\n",
    "                   self.Ds / 2. / Vr * torch.exp((fr + b * torch.log(Vr * self.theta / DRS)) / a)\n",
    "                   )\n",
    "    \n",
    "    # Calculate theta using s(t), Ds(t), theta(t) and params\n",
    "    def calTheta(self):\n",
    "        # Set aliases for rate-and-state parameters\n",
    "        DRS = self.params.DRS\n",
    "        \n"
   ]
  },
  {
   "cell_type": "code",
   "execution_count": null,
   "metadata": {},
   "outputs": [],
   "source": []
  }
 ],
 "metadata": {
  "kernelspec": {
   "display_name": "Python 3",
   "language": "python",
   "name": "python3"
  },
  "language_info": {
   "codemirror_mode": {
    "name": "ipython",
    "version": 3
   },
   "file_extension": ".py",
   "mimetype": "text/x-python",
   "name": "python",
   "nbconvert_exporter": "python",
   "pygments_lexer": "ipython3",
   "version": "3.8.5"
  }
 },
 "nbformat": 4,
 "nbformat_minor": 4
}
