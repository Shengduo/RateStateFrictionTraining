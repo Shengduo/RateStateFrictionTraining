{
 "cells": [
  {
   "cell_type": "markdown",
   "metadata": {},
   "source": [
    "# Import packages"
   ]
  },
  {
   "cell_type": "code",
   "execution_count": 1,
   "metadata": {},
   "outputs": [],
   "source": [
    "import torch\n",
    "import torch.nn as nn\n",
    "import torchdiffeq\n",
    "from torchdiffeq import odeint\n",
    "from xitorch.interpolate import Interp1D\n",
    "from scipy.interpolate import interp1d\n",
    "from matplotlib import pyplot as plt"
   ]
  },
  {
   "cell_type": "code",
   "execution_count": 4,
   "metadata": {},
   "outputs": [
    {
     "name": "stdout",
     "output_type": "stream",
     "text": [
      "Training data set length:  9600\n",
      "Testing data set length:  2400\n"
     ]
    }
   ],
   "source": [
    "# Generate x and y in y = log(x)\n",
    "log_V_range = [-15, 2]\n",
    "N_seq = 12000\n",
    "y = torch.rand([N_seq, 1]) * (log_V_range[1] - log_V_range[0]) + log_V_range[0]\n",
    "x = torch.pow(10., y)\n",
    "\n",
    "from torch.utils.data import TensorDataset, DataLoader\n",
    "AllData = TensorDataset(\n",
    "    x, \n",
    "    y,\n",
    ")\n",
    "\n",
    "# Training-testing separation\n",
    "trainSetLen = int(len(AllData) * 0.8)\n",
    "testSetLen = len(AllData) - trainSetLen\n",
    "\n",
    "# Separate the data set\n",
    "trainDataSet, testDataSet = torch.utils.data.random_split(AllData, [trainSetLen, testSetLen])\n",
    "print('Training data set length: ', len(trainDataSet))\n",
    "print('Testing data set length: ', len(testDataSet))\n",
    "\n",
    "# Training data loader\n",
    "training_batch_size = 256 * 4\n",
    "trainDataLoader = DataLoader(\n",
    "    trainDataSet,\n",
    "    batch_size = training_batch_size,\n",
    "    shuffle = True,\n",
    "#    num_workers = 16,\n",
    "    collate_fn = None,\n",
    "    pin_memory = False,\n",
    ")\n",
    "\n",
    "# Testing data loader\n",
    "testing_batch_size = 64 * 4\n",
    "testDataLoader = DataLoader(\n",
    "    testDataSet,\n",
    "    batch_size = testing_batch_size,\n",
    "    shuffle = True,\n",
    "#    num_workers = 16,\n",
    "    collate_fn = None,\n",
    "    pin_memory = False,\n",
    ")\n"
   ]
  },
  {
   "cell_type": "markdown",
   "metadata": {},
   "source": [
    "# Define the NN to learn log function"
   ]
  },
  {
   "cell_type": "code",
   "execution_count": 9,
   "metadata": {},
   "outputs": [],
   "source": [
    "class PP(nn.Module):\n",
    "    # Constructor\n",
    "    def __init__(self, NNs, input_dim = 1, output_dim = 1):\n",
    "        super().__init__()\n",
    "        self.fc = nn.Sequential(\n",
    "            nn.Linear(input_dim, NNs[0]), \n",
    "            nn.ReLU(),\n",
    "        )\n",
    "        \n",
    "        for i in range(len(NNs) - 1):\n",
    "            self.fc.append(nn.Linear(NNs[i], NNs[i + 1]))\n",
    "            self.fc.append(nn.ReLU())\n",
    "        \n",
    "        self.fc.append(nn.Linear(NNs[-1], output_dim))\n",
    "    \n",
    "    # Forward function\n",
    "    def forward(self, x):\n",
    "        return self.fc(x)\n",
    "        "
   ]
  },
  {
   "cell_type": "code",
   "execution_count": 10,
   "metadata": {},
   "outputs": [],
   "source": [
    "# Training functions\n",
    "def train1Epoch(dataloader, loss_fn, model, optimizer):\n",
    "    r\"\"\"\n",
    "        Inputs: # --------------------------------------------------------------------------------------------\n",
    "            dataloader: training data set loader\n",
    "            loss_fn: loss function\n",
    "            model: the RNN model being trained\n",
    "            optimizer: handle to the optimizer\n",
    "            \n",
    "        Outputs: # -------------------------------------------------------------------------------------------\n",
    "            loss: Training loss at the current data set\n",
    "    \n",
    "    \"\"\"\n",
    "    losses = []\n",
    "    for idx, (x, y) in enumerate(dataloader):\n",
    "        \n",
    "        optimizer.zero_grad()\n",
    "        y_pred = model(x)\n",
    "        \n",
    "        loss = loss_fn(y, y_pred)\n",
    "    \n",
    "        loss.backward()\n",
    "        optimizer.step()\n",
    "        losses.append(loss * x.shape[0])\n",
    "    \n",
    "    # Return the avg loss for each sequence\n",
    "    return sum(losses) / len(dataloader.dataset)\n",
    "\n",
    "\n",
    "# Function evaluate test loss\n",
    "def evaluateTestLoss(dataloader, loss_fn, model):\n",
    "    r\"\"\"\n",
    "        Inputs: # --------------------------------------------------------------------------------------------\n",
    "            dataloader: testing data set loader\n",
    "            loss_fn: loss function\n",
    "            model: the RNN model being trained\n",
    "            \n",
    "        Outputs: # -------------------------------------------------------------------------------------------\n",
    "            loss: Testing loss at the current data set\n",
    "    \n",
    "    \"\"\"\n",
    "    losses = []\n",
    "    for idx, (x, y) in enumerate(dataloader):\n",
    "        y_pred = model(x)\n",
    "        loss = loss_fn(y, y_pred)\n",
    "        losses.append(loss * x.shape[0])\n",
    "    \n",
    "    # Return the avg loss for each sequence\n",
    "    return sum(losses) / len(dataloader.dataset)\n",
    "\n",
    "\n",
    "# Loss function\n",
    "def Loss(y, y_true):\n",
    "    return torch.sqrt(torch.sum(torch.square(y - y_true)) / (y.shape[0] * y.shape[1]))"
   ]
  },
  {
   "cell_type": "markdown",
   "metadata": {},
   "source": [
    "# Training for $y = \\log(x)$"
   ]
  },
  {
   "cell_type": "code",
   "execution_count": 34,
   "metadata": {},
   "outputs": [
    {
     "name": "stdout",
     "output_type": "stream",
     "text": [
      "--------------------  Epoch  0 --------------------\n",
      "Training loss:  tensor(8.0889, grad_fn=<DivBackward0>)\n",
      "Testing loss:  tensor(8.1127, grad_fn=<DivBackward0>)\n",
      "Training time for this epoch:  0.24208712577819824\n",
      "\n",
      "\n",
      "--------------------  Epoch  10 --------------------\n",
      "Training loss:  tensor(7.3265, grad_fn=<DivBackward0>)\n",
      "Testing loss:  tensor(7.3164, grad_fn=<DivBackward0>)\n",
      "Training time for this epoch:  0.18352603912353516\n",
      "\n",
      "\n",
      "--------------------  Epoch  20 --------------------\n",
      "Training loss:  tensor(6.1688, grad_fn=<DivBackward0>)\n",
      "Testing loss:  tensor(6.1016, grad_fn=<DivBackward0>)\n",
      "Training time for this epoch:  0.16321635246276855\n",
      "\n",
      "\n",
      "--------------------  Epoch  30 --------------------\n",
      "Training loss:  tensor(4.5683, grad_fn=<DivBackward0>)\n",
      "Testing loss:  tensor(4.5149, grad_fn=<DivBackward0>)\n",
      "Training time for this epoch:  0.16514873504638672\n",
      "\n",
      "\n",
      "--------------------  Epoch  40 --------------------\n",
      "Training loss:  tensor(4.0512, grad_fn=<DivBackward0>)\n",
      "Testing loss:  tensor(4.0475, grad_fn=<DivBackward0>)\n",
      "Training time for this epoch:  0.16806721687316895\n",
      "\n",
      "\n",
      "--------------------  Epoch  50 --------------------\n",
      "Training loss:  tensor(3.8001, grad_fn=<DivBackward0>)\n",
      "Testing loss:  tensor(3.8031, grad_fn=<DivBackward0>)\n",
      "Training time for this epoch:  0.16868901252746582\n",
      "\n",
      "\n",
      "--------------------  Epoch  60 --------------------\n",
      "Training loss:  tensor(3.6074, grad_fn=<DivBackward0>)\n",
      "Testing loss:  tensor(3.6224, grad_fn=<DivBackward0>)\n",
      "Training time for this epoch:  0.17161893844604492\n",
      "\n",
      "\n",
      "--------------------  Epoch  70 --------------------\n",
      "Training loss:  tensor(3.4751, grad_fn=<DivBackward0>)\n",
      "Testing loss:  tensor(3.4896, grad_fn=<DivBackward0>)\n",
      "Training time for this epoch:  0.16530346870422363\n",
      "\n",
      "\n",
      "--------------------  Epoch  80 --------------------\n",
      "Training loss:  tensor(3.3866, grad_fn=<DivBackward0>)\n",
      "Testing loss:  tensor(3.4432, grad_fn=<DivBackward0>)\n",
      "Training time for this epoch:  0.18250513076782227\n",
      "\n",
      "\n",
      "--------------------  Epoch  90 --------------------\n",
      "Training loss:  tensor(3.5050, grad_fn=<DivBackward0>)\n",
      "Testing loss:  tensor(3.4935, grad_fn=<DivBackward0>)\n",
      "Training time for this epoch:  0.1836099624633789\n",
      "\n",
      "\n"
     ]
    }
   ],
   "source": [
    "import time\n",
    "# Initialize a PP model\n",
    "model = PP([64, 128, 256, 512, 1024, 256, 128, 64])\n",
    "\n",
    "# Learning rate\n",
    "learning_rate = 1.0e-3\n",
    "\n",
    "# Optimizer SGD\n",
    "import torch.optim as optim\n",
    "optimizer = optim.SGD(model.parameters(), lr = learning_rate, momentum = 0.9)\n",
    "\n",
    "# Train for n epochs\n",
    "loss_history_train = []\n",
    "loss_history_test = []\n",
    "output_freq = 10\n",
    "n_epochs = 100\n",
    "for epoch in range(n_epochs):\n",
    "    st_time = time.time()\n",
    "\n",
    "    # Train for 1 epoch\n",
    "    train_loss = train1Epoch(trainDataLoader, Loss, model, optimizer)\n",
    "    loss_history_train.append(train_loss.item())\n",
    "\n",
    "    # Track training time\n",
    "    epoch_time = time.time() - st_time\n",
    "\n",
    "    # Evaluate test loss\n",
    "    # test_loss = evaluateTestLoss(testDataLoader, VFocusL2Loss, model, loss_flag = 'Weighted')\n",
    "    test_loss = evaluateTestLoss(testDataLoader, Loss, model)\n",
    "    loss_history_test.append(test_loss.item())\n",
    "\n",
    "    # Print out information\n",
    "    if epoch % output_freq == 0:\n",
    "        print(\"-\"*20, \" Epoch \", epoch, \"-\"*20)\n",
    "        print(\"Training loss: \", train_loss)\n",
    "        print(\"Testing loss: \", test_loss)\n",
    "        print(\"Training time for this epoch: \", epoch_time)\n",
    "        print('\\n')"
   ]
  },
  {
   "cell_type": "code",
   "execution_count": 36,
   "metadata": {},
   "outputs": [
    {
     "data": {
      "image/png": "[encoded data removed]",
      "text/plain": [
       "<Figure size 432x288 with 1 Axes>"
      ]
     },
     "metadata": {
      "needs_background": "light"
     },
     "output_type": "display_data"
    }
   ],
   "source": [
    "# Scatter the points on the test data set\n",
    "y_test = torch.sort(torch.rand(N_seq) * (log_V_range[1] - log_V_range[0]) + log_V_range[0]).values\n",
    "x_test = torch.pow(10., y_test)\n",
    "\n",
    "y_test_pred = model(x_test.reshape([-1, 1])).detach().reshape(-1)\n",
    "\n",
    "# Plot the curve\n",
    "plt.plot(x_test, y_test, linewidth=2.0)\n",
    "\n",
    "plt.xlabel('x', fontsize=20)\n",
    "plt.ylabel('y=log(x)', fontsize=20)\n",
    "plt.scatter(x_test.reshape(-1), y_test_pred.reshape(-1).detach())\n",
    "plt.legend(['True function', 'Fitted NN'], loc='best', fontsize=20)\n",
    "plt.show()"
   ]
  },
  {
   "cell_type": "code",
   "execution_count": 25,
   "metadata": {},
   "outputs": [
    {
     "data": {
      "text/plain": [
       "torch.Size([12000])"
      ]
     },
     "execution_count": 25,
     "metadata": {},
     "output_type": "execute_result"
    }
   ],
   "source": [
    "y_test.shape"
   ]
  },
  {
   "cell_type": "code",
   "execution_count": null,
   "metadata": {},
   "outputs": [],
   "source": []
  }
 ],
 "metadata": {
  "kernelspec": {
   "display_name": "Python 3 (ipykernel)",
   "language": "python",
   "name": "python3"
  },
  "language_info": {
   "codemirror_mode": {
    "name": "ipython",
    "version": 3
   },
   "file_extension": ".py",
   "mimetype": "text/x-python",
   "name": "python",
   "nbconvert_exporter": "python",
   "pygments_lexer": "ipython3",
   "version": "3.9.12"
  }
 },
 "nbformat": 4,
 "nbformat_minor": 4
}
